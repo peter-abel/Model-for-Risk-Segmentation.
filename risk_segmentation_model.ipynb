{
  "nbformat": 4,
  "nbformat_minor": 0,
  "metadata": {
    "colab": {
      "provenance": [],
      "collapsed_sections": []
    },
    "kernelspec": {
      "name": "python3",
      "display_name": "Python 3"
    },
    "language_info": {
      "name": "python"
    }
  },
  "cells": [
    {
      "cell_type": "markdown",
      "source": [
        "#Random forest Classifier model for risk segmentation."
      ],
      "metadata": {
        "id": "6WcnBi5r5cg2"
      }
    },
    {
      "cell_type": "markdown",
      "source": [
        "#Features used in the model:\n",
        "\n",
        "* INSURANCE_TYPE\n",
        "* PREMIUM_AMOUNT\n",
        "* CITY\n",
        "* MARITAL_STATUS\n",
        "* AGE\n",
        "* TENURE\n",
        "* EMPLOYMENT_STATUS\n",
        "* NO_OF_FAMILY_MEMBERS \n",
        "* HOUSE_TYPE\n",
        "* SOCIAL_CLASS\n",
        "* RISK_SEGMENTATION\n",
        "\n",
        "\n",
        "\n"
      ],
      "metadata": {
        "id": "c2c79i8l-zaA"
      }
    },
    {
      "cell_type": "markdown",
      "source": [
        "#Libraries."
      ],
      "metadata": {
        "id": "qp0HeYgI2TdB"
      }
    },
    {
      "cell_type": "code",
      "execution_count": 22,
      "metadata": {
        "id": "o-rW-gsgL54F"
      },
      "outputs": [],
      "source": [
        "import pandas as pd\n",
        "import matplotlib.pyplot as plt\n",
        "import seaborn as sns\n",
        "import numpy as np\n",
        "from sklearn.model_selection import train_test_split\n",
        "from sklearn.metrics import accuracy_score\n",
        "from sklearn.ensemble import RandomForestClassifier\n",
        "from imblearn.over_sampling import RandomOverSampler\n"
      ]
    },
    {
      "cell_type": "markdown",
      "source": [
        "#Opening the csv with pandas."
      ],
      "metadata": {
        "id": "Rj4GW7P62hth"
      }
    },
    {
      "cell_type": "code",
      "execution_count": 2,
      "metadata": {
        "colab": {
          "base_uri": "https://localhost:8080/",
          "height": 505
        },
        "id": "l8m8-_aueZj8",
        "outputId": "ff405c7c-214b-408e-fe7d-adb9c4d83200"
      },
      "outputs": [
        {
          "output_type": "execute_result",
          "data": {
            "text/plain": [
              "     INSURANCE_TYPE  PREMIUM_AMOUNT           CITY MARITAL_STATUS  AGE  \\\n",
              "0            Health          157.13       Glendale              Y   54   \n",
              "1          Property          141.71         Arvada              N   61   \n",
              "2          Property          157.24        Vallejo              N   47   \n",
              "3            Health          172.87    Thunderbolt              Y   36   \n",
              "4            Travel           88.53      Livermore              Y   51   \n",
              "...             ...             ...            ...            ...  ...   \n",
              "9995          Motor          105.75     Manchester              N   45   \n",
              "9996           Life           64.59   Fayetteville              Y   52   \n",
              "9997         Health          183.50      Anchorage              Y   53   \n",
              "9998          Motor          113.46        Oakland              Y   61   \n",
              "9999         Mobile            8.22  Oklahoma City              Y   64   \n",
              "\n",
              "      TENURE EMPLOYMENT_STATUS  NO_OF_FAMILY_MEMBERS RISK_SEGMENTATION  \\\n",
              "0         89                 Y                     3                 L   \n",
              "1         80                 Y                     4                 L   \n",
              "2         68                 Y                     6                 L   \n",
              "3         16                 Y                     7                 L   \n",
              "4         16                 Y                     2                 M   \n",
              "...      ...               ...                   ...               ...   \n",
              "9995      98                 Y                     3                 M   \n",
              "9996      92                 Y                     3                 L   \n",
              "9997      32                 Y                     2                 M   \n",
              "9998      44                 Y                     7                 M   \n",
              "9999     106                 Y                     2                 M   \n",
              "\n",
              "     HOUSE_TYPE SOCIAL_CLASS  \n",
              "0           Own           LI  \n",
              "1          Rent           MI  \n",
              "2          Rent           MI  \n",
              "3      Mortgage           MI  \n",
              "4          Rent           HI  \n",
              "...         ...          ...  \n",
              "9995        Own           MI  \n",
              "9996   Mortgage           LI  \n",
              "9997   Mortgage           LI  \n",
              "9998       Rent           MI  \n",
              "9999       Rent           MI  \n",
              "\n",
              "[10000 rows x 11 columns]"
            ],
            "text/html": [
              "\n",
              "  <div id=\"df-069d4543-3152-4021-9666-0ed2240a5e58\">\n",
              "    <div class=\"colab-df-container\">\n",
              "      <div>\n",
              "<style scoped>\n",
              "    .dataframe tbody tr th:only-of-type {\n",
              "        vertical-align: middle;\n",
              "    }\n",
              "\n",
              "    .dataframe tbody tr th {\n",
              "        vertical-align: top;\n",
              "    }\n",
              "\n",
              "    .dataframe thead th {\n",
              "        text-align: right;\n",
              "    }\n",
              "</style>\n",
              "<table border=\"1\" class=\"dataframe\">\n",
              "  <thead>\n",
              "    <tr style=\"text-align: right;\">\n",
              "      <th></th>\n",
              "      <th>INSURANCE_TYPE</th>\n",
              "      <th>PREMIUM_AMOUNT</th>\n",
              "      <th>CITY</th>\n",
              "      <th>MARITAL_STATUS</th>\n",
              "      <th>AGE</th>\n",
              "      <th>TENURE</th>\n",
              "      <th>EMPLOYMENT_STATUS</th>\n",
              "      <th>NO_OF_FAMILY_MEMBERS</th>\n",
              "      <th>RISK_SEGMENTATION</th>\n",
              "      <th>HOUSE_TYPE</th>\n",
              "      <th>SOCIAL_CLASS</th>\n",
              "    </tr>\n",
              "  </thead>\n",
              "  <tbody>\n",
              "    <tr>\n",
              "      <th>0</th>\n",
              "      <td>Health</td>\n",
              "      <td>157.13</td>\n",
              "      <td>Glendale</td>\n",
              "      <td>Y</td>\n",
              "      <td>54</td>\n",
              "      <td>89</td>\n",
              "      <td>Y</td>\n",
              "      <td>3</td>\n",
              "      <td>L</td>\n",
              "      <td>Own</td>\n",
              "      <td>LI</td>\n",
              "    </tr>\n",
              "    <tr>\n",
              "      <th>1</th>\n",
              "      <td>Property</td>\n",
              "      <td>141.71</td>\n",
              "      <td>Arvada</td>\n",
              "      <td>N</td>\n",
              "      <td>61</td>\n",
              "      <td>80</td>\n",
              "      <td>Y</td>\n",
              "      <td>4</td>\n",
              "      <td>L</td>\n",
              "      <td>Rent</td>\n",
              "      <td>MI</td>\n",
              "    </tr>\n",
              "    <tr>\n",
              "      <th>2</th>\n",
              "      <td>Property</td>\n",
              "      <td>157.24</td>\n",
              "      <td>Vallejo</td>\n",
              "      <td>N</td>\n",
              "      <td>47</td>\n",
              "      <td>68</td>\n",
              "      <td>Y</td>\n",
              "      <td>6</td>\n",
              "      <td>L</td>\n",
              "      <td>Rent</td>\n",
              "      <td>MI</td>\n",
              "    </tr>\n",
              "    <tr>\n",
              "      <th>3</th>\n",
              "      <td>Health</td>\n",
              "      <td>172.87</td>\n",
              "      <td>Thunderbolt</td>\n",
              "      <td>Y</td>\n",
              "      <td>36</td>\n",
              "      <td>16</td>\n",
              "      <td>Y</td>\n",
              "      <td>7</td>\n",
              "      <td>L</td>\n",
              "      <td>Mortgage</td>\n",
              "      <td>MI</td>\n",
              "    </tr>\n",
              "    <tr>\n",
              "      <th>4</th>\n",
              "      <td>Travel</td>\n",
              "      <td>88.53</td>\n",
              "      <td>Livermore</td>\n",
              "      <td>Y</td>\n",
              "      <td>51</td>\n",
              "      <td>16</td>\n",
              "      <td>Y</td>\n",
              "      <td>2</td>\n",
              "      <td>M</td>\n",
              "      <td>Rent</td>\n",
              "      <td>HI</td>\n",
              "    </tr>\n",
              "    <tr>\n",
              "      <th>...</th>\n",
              "      <td>...</td>\n",
              "      <td>...</td>\n",
              "      <td>...</td>\n",
              "      <td>...</td>\n",
              "      <td>...</td>\n",
              "      <td>...</td>\n",
              "      <td>...</td>\n",
              "      <td>...</td>\n",
              "      <td>...</td>\n",
              "      <td>...</td>\n",
              "      <td>...</td>\n",
              "    </tr>\n",
              "    <tr>\n",
              "      <th>9995</th>\n",
              "      <td>Motor</td>\n",
              "      <td>105.75</td>\n",
              "      <td>Manchester</td>\n",
              "      <td>N</td>\n",
              "      <td>45</td>\n",
              "      <td>98</td>\n",
              "      <td>Y</td>\n",
              "      <td>3</td>\n",
              "      <td>M</td>\n",
              "      <td>Own</td>\n",
              "      <td>MI</td>\n",
              "    </tr>\n",
              "    <tr>\n",
              "      <th>9996</th>\n",
              "      <td>Life</td>\n",
              "      <td>64.59</td>\n",
              "      <td>Fayetteville</td>\n",
              "      <td>Y</td>\n",
              "      <td>52</td>\n",
              "      <td>92</td>\n",
              "      <td>Y</td>\n",
              "      <td>3</td>\n",
              "      <td>L</td>\n",
              "      <td>Mortgage</td>\n",
              "      <td>LI</td>\n",
              "    </tr>\n",
              "    <tr>\n",
              "      <th>9997</th>\n",
              "      <td>Health</td>\n",
              "      <td>183.50</td>\n",
              "      <td>Anchorage</td>\n",
              "      <td>Y</td>\n",
              "      <td>53</td>\n",
              "      <td>32</td>\n",
              "      <td>Y</td>\n",
              "      <td>2</td>\n",
              "      <td>M</td>\n",
              "      <td>Mortgage</td>\n",
              "      <td>LI</td>\n",
              "    </tr>\n",
              "    <tr>\n",
              "      <th>9998</th>\n",
              "      <td>Motor</td>\n",
              "      <td>113.46</td>\n",
              "      <td>Oakland</td>\n",
              "      <td>Y</td>\n",
              "      <td>61</td>\n",
              "      <td>44</td>\n",
              "      <td>Y</td>\n",
              "      <td>7</td>\n",
              "      <td>M</td>\n",
              "      <td>Rent</td>\n",
              "      <td>MI</td>\n",
              "    </tr>\n",
              "    <tr>\n",
              "      <th>9999</th>\n",
              "      <td>Mobile</td>\n",
              "      <td>8.22</td>\n",
              "      <td>Oklahoma City</td>\n",
              "      <td>Y</td>\n",
              "      <td>64</td>\n",
              "      <td>106</td>\n",
              "      <td>Y</td>\n",
              "      <td>2</td>\n",
              "      <td>M</td>\n",
              "      <td>Rent</td>\n",
              "      <td>MI</td>\n",
              "    </tr>\n",
              "  </tbody>\n",
              "</table>\n",
              "<p>10000 rows × 11 columns</p>\n",
              "</div>\n",
              "      <button class=\"colab-df-convert\" onclick=\"convertToInteractive('df-069d4543-3152-4021-9666-0ed2240a5e58')\"\n",
              "              title=\"Convert this dataframe to an interactive table.\"\n",
              "              style=\"display:none;\">\n",
              "        \n",
              "  <svg xmlns=\"http://www.w3.org/2000/svg\" height=\"24px\"viewBox=\"0 0 24 24\"\n",
              "       width=\"24px\">\n",
              "    <path d=\"M0 0h24v24H0V0z\" fill=\"none\"/>\n",
              "    <path d=\"M18.56 5.44l.94 2.06.94-2.06 2.06-.94-2.06-.94-.94-2.06-.94 2.06-2.06.94zm-11 1L8.5 8.5l.94-2.06 2.06-.94-2.06-.94L8.5 2.5l-.94 2.06-2.06.94zm10 10l.94 2.06.94-2.06 2.06-.94-2.06-.94-.94-2.06-.94 2.06-2.06.94z\"/><path d=\"M17.41 7.96l-1.37-1.37c-.4-.4-.92-.59-1.43-.59-.52 0-1.04.2-1.43.59L10.3 9.45l-7.72 7.72c-.78.78-.78 2.05 0 2.83L4 21.41c.39.39.9.59 1.41.59.51 0 1.02-.2 1.41-.59l7.78-7.78 2.81-2.81c.8-.78.8-2.07 0-2.86zM5.41 20L4 18.59l7.72-7.72 1.47 1.35L5.41 20z\"/>\n",
              "  </svg>\n",
              "      </button>\n",
              "      \n",
              "  <style>\n",
              "    .colab-df-container {\n",
              "      display:flex;\n",
              "      flex-wrap:wrap;\n",
              "      gap: 12px;\n",
              "    }\n",
              "\n",
              "    .colab-df-convert {\n",
              "      background-color: #E8F0FE;\n",
              "      border: none;\n",
              "      border-radius: 50%;\n",
              "      cursor: pointer;\n",
              "      display: none;\n",
              "      fill: #1967D2;\n",
              "      height: 32px;\n",
              "      padding: 0 0 0 0;\n",
              "      width: 32px;\n",
              "    }\n",
              "\n",
              "    .colab-df-convert:hover {\n",
              "      background-color: #E2EBFA;\n",
              "      box-shadow: 0px 1px 2px rgba(60, 64, 67, 0.3), 0px 1px 3px 1px rgba(60, 64, 67, 0.15);\n",
              "      fill: #174EA6;\n",
              "    }\n",
              "\n",
              "    [theme=dark] .colab-df-convert {\n",
              "      background-color: #3B4455;\n",
              "      fill: #D2E3FC;\n",
              "    }\n",
              "\n",
              "    [theme=dark] .colab-df-convert:hover {\n",
              "      background-color: #434B5C;\n",
              "      box-shadow: 0px 1px 3px 1px rgba(0, 0, 0, 0.15);\n",
              "      filter: drop-shadow(0px 1px 2px rgba(0, 0, 0, 0.3));\n",
              "      fill: #FFFFFF;\n",
              "    }\n",
              "  </style>\n",
              "\n",
              "      <script>\n",
              "        const buttonEl =\n",
              "          document.querySelector('#df-069d4543-3152-4021-9666-0ed2240a5e58 button.colab-df-convert');\n",
              "        buttonEl.style.display =\n",
              "          google.colab.kernel.accessAllowed ? 'block' : 'none';\n",
              "\n",
              "        async function convertToInteractive(key) {\n",
              "          const element = document.querySelector('#df-069d4543-3152-4021-9666-0ed2240a5e58');\n",
              "          const dataTable =\n",
              "            await google.colab.kernel.invokeFunction('convertToInteractive',\n",
              "                                                     [key], {});\n",
              "          if (!dataTable) return;\n",
              "\n",
              "          const docLinkHtml = 'Like what you see? Visit the ' +\n",
              "            '<a target=\"_blank\" href=https://colab.research.google.com/notebooks/data_table.ipynb>data table notebook</a>'\n",
              "            + ' to learn more about interactive tables.';\n",
              "          element.innerHTML = '';\n",
              "          dataTable['output_type'] = 'display_data';\n",
              "          await google.colab.output.renderOutput(dataTable, element);\n",
              "          const docLink = document.createElement('div');\n",
              "          docLink.innerHTML = docLinkHtml;\n",
              "          element.appendChild(docLink);\n",
              "        }\n",
              "      </script>\n",
              "    </div>\n",
              "  </div>\n",
              "  "
            ]
          },
          "metadata": {},
          "execution_count": 2
        }
      ],
      "source": [
        "df = pd.read_csv(\"/content/insurance_data.csv\", usecols=( 'INSURANCE_TYPE',\n",
        "       'PREMIUM_AMOUNT','CITY',\n",
        "       'MARITAL_STATUS', 'AGE', 'TENURE', 'EMPLOYMENT_STATUS',\n",
        "       'NO_OF_FAMILY_MEMBERS', 'HOUSE_TYPE',\n",
        "       'SOCIAL_CLASS','RISK_SEGMENTATION'))\n",
        "df"
      ]
    },
    {
      "cell_type": "markdown",
      "source": [
        "#Categorical words into categorical numerics."
      ],
      "metadata": {
        "id": "T768oEXU2rSq"
      }
    },
    {
      "cell_type": "code",
      "source": [
        "\n",
        "df['SOCIAL_CLASS'] = df['SOCIAL_CLASS'].astype('category').cat.codes\n",
        "df['INSURANCE_TYPE'] = df['INSURANCE_TYPE'].astype('category').cat.codes\n",
        "df['CITY'] = df['CITY'].astype('category').cat.codes\n",
        "df['RISK_segmentation'] = df['RISK_SEGMENTATION'].astype('category').cat.codes\n",
        "df['HOUSE_TYPE'] = df['HOUSE_TYPE'].astype('category').cat.codes\n",
        "df['MARITAL_STATUS'] = df['MARITAL_STATUS'].astype('category').cat.codes\n",
        "df['EMPLOYMENT_STATUS'] = df['EMPLOYMENT_STATUS'].astype('category').cat.codes\n"
      ],
      "metadata": {
        "id": "xV8QoP7qI7mU"
      },
      "execution_count": 3,
      "outputs": []
    },
    {
      "cell_type": "code",
      "source": [
        "df.corr()"
      ],
      "metadata": {
        "id": "iFxYRDakSiVh",
        "colab": {
          "base_uri": "https://localhost:8080/",
          "height": 490
        },
        "outputId": "b91e58c6-6d5a-47ef-e3f6-846dcf5c36d7"
      },
      "execution_count": null,
      "outputs": [
        {
          "output_type": "execute_result",
          "data": {
            "text/plain": [
              "                      INSURANCE_TYPE  PREMIUM_AMOUNT      CITY  \\\n",
              "INSURANCE_TYPE              1.000000       -0.147704  0.003691   \n",
              "PREMIUM_AMOUNT             -0.147704        1.000000  0.010852   \n",
              "CITY                        0.003691        0.010852  1.000000   \n",
              "MARITAL_STATUS             -0.021238        0.007455  0.012464   \n",
              "AGE                         0.025841       -0.011634  0.008113   \n",
              "TENURE                      0.008084        0.006190  0.008007   \n",
              "EMPLOYMENT_STATUS          -0.008521        0.011419 -0.009975   \n",
              "NO_OF_FAMILY_MEMBERS        0.005207        0.000005  0.009361   \n",
              "RISK_SEGMENTATION          -0.001767       -0.005581 -0.002799   \n",
              "HOUSE_TYPE                  0.006746        0.019688  0.025431   \n",
              "SOCIAL_CLASS                0.000232        0.007966 -0.007019   \n",
              "RISK_segmentation          -0.001767       -0.005581 -0.002799   \n",
              "\n",
              "                      MARITAL_STATUS       AGE    TENURE  EMPLOYMENT_STATUS  \\\n",
              "INSURANCE_TYPE             -0.021238  0.025841  0.008084          -0.008521   \n",
              "PREMIUM_AMOUNT              0.007455 -0.011634  0.006190           0.011419   \n",
              "CITY                        0.012464  0.008113  0.008007          -0.009975   \n",
              "MARITAL_STATUS              1.000000 -0.005509  0.006122          -0.000915   \n",
              "AGE                        -0.005509  1.000000 -0.004507          -0.002160   \n",
              "TENURE                      0.006122 -0.004507  1.000000           0.001327   \n",
              "EMPLOYMENT_STATUS          -0.000915 -0.002160  0.001327           1.000000   \n",
              "NO_OF_FAMILY_MEMBERS        0.009884 -0.001442 -0.007814          -0.004896   \n",
              "RISK_SEGMENTATION          -0.016902  0.011075  0.009556          -0.001861   \n",
              "HOUSE_TYPE                  0.012752  0.011801 -0.017814          -0.007412   \n",
              "SOCIAL_CLASS                0.000175  0.007797 -0.001196          -0.009317   \n",
              "RISK_segmentation          -0.016902  0.011075  0.009556          -0.001861   \n",
              "\n",
              "                      NO_OF_FAMILY_MEMBERS  RISK_SEGMENTATION  HOUSE_TYPE  \\\n",
              "INSURANCE_TYPE                    0.005207          -0.001767    0.006746   \n",
              "PREMIUM_AMOUNT                    0.000005          -0.005581    0.019688   \n",
              "CITY                              0.009361          -0.002799    0.025431   \n",
              "MARITAL_STATUS                    0.009884          -0.016902    0.012752   \n",
              "AGE                              -0.001442           0.011075    0.011801   \n",
              "TENURE                           -0.007814           0.009556   -0.017814   \n",
              "EMPLOYMENT_STATUS                -0.004896          -0.001861   -0.007412   \n",
              "NO_OF_FAMILY_MEMBERS              1.000000          -0.012059    0.005948   \n",
              "RISK_SEGMENTATION                -0.012059           1.000000   -0.019132   \n",
              "HOUSE_TYPE                        0.005948          -0.019132    1.000000   \n",
              "SOCIAL_CLASS                      0.020016           0.015368   -0.007148   \n",
              "RISK_segmentation                -0.012059           1.000000   -0.019132   \n",
              "\n",
              "                      SOCIAL_CLASS  RISK_segmentation  \n",
              "INSURANCE_TYPE            0.000232          -0.001767  \n",
              "PREMIUM_AMOUNT            0.007966          -0.005581  \n",
              "CITY                     -0.007019          -0.002799  \n",
              "MARITAL_STATUS            0.000175          -0.016902  \n",
              "AGE                       0.007797           0.011075  \n",
              "TENURE                   -0.001196           0.009556  \n",
              "EMPLOYMENT_STATUS        -0.009317          -0.001861  \n",
              "NO_OF_FAMILY_MEMBERS      0.020016          -0.012059  \n",
              "RISK_SEGMENTATION         0.015368           1.000000  \n",
              "HOUSE_TYPE               -0.007148          -0.019132  \n",
              "SOCIAL_CLASS              1.000000           0.015368  \n",
              "RISK_segmentation         0.015368           1.000000  "
            ],
            "text/html": [
              "\n",
              "  <div id=\"df-9df36057-2034-49f0-8c85-55052004de6e\">\n",
              "    <div class=\"colab-df-container\">\n",
              "      <div>\n",
              "<style scoped>\n",
              "    .dataframe tbody tr th:only-of-type {\n",
              "        vertical-align: middle;\n",
              "    }\n",
              "\n",
              "    .dataframe tbody tr th {\n",
              "        vertical-align: top;\n",
              "    }\n",
              "\n",
              "    .dataframe thead th {\n",
              "        text-align: right;\n",
              "    }\n",
              "</style>\n",
              "<table border=\"1\" class=\"dataframe\">\n",
              "  <thead>\n",
              "    <tr style=\"text-align: right;\">\n",
              "      <th></th>\n",
              "      <th>INSURANCE_TYPE</th>\n",
              "      <th>PREMIUM_AMOUNT</th>\n",
              "      <th>CITY</th>\n",
              "      <th>MARITAL_STATUS</th>\n",
              "      <th>AGE</th>\n",
              "      <th>TENURE</th>\n",
              "      <th>EMPLOYMENT_STATUS</th>\n",
              "      <th>NO_OF_FAMILY_MEMBERS</th>\n",
              "      <th>RISK_SEGMENTATION</th>\n",
              "      <th>HOUSE_TYPE</th>\n",
              "      <th>SOCIAL_CLASS</th>\n",
              "      <th>RISK_segmentation</th>\n",
              "    </tr>\n",
              "  </thead>\n",
              "  <tbody>\n",
              "    <tr>\n",
              "      <th>INSURANCE_TYPE</th>\n",
              "      <td>1.000000</td>\n",
              "      <td>-0.147704</td>\n",
              "      <td>0.003691</td>\n",
              "      <td>-0.021238</td>\n",
              "      <td>0.025841</td>\n",
              "      <td>0.008084</td>\n",
              "      <td>-0.008521</td>\n",
              "      <td>0.005207</td>\n",
              "      <td>-0.001767</td>\n",
              "      <td>0.006746</td>\n",
              "      <td>0.000232</td>\n",
              "      <td>-0.001767</td>\n",
              "    </tr>\n",
              "    <tr>\n",
              "      <th>PREMIUM_AMOUNT</th>\n",
              "      <td>-0.147704</td>\n",
              "      <td>1.000000</td>\n",
              "      <td>0.010852</td>\n",
              "      <td>0.007455</td>\n",
              "      <td>-0.011634</td>\n",
              "      <td>0.006190</td>\n",
              "      <td>0.011419</td>\n",
              "      <td>0.000005</td>\n",
              "      <td>-0.005581</td>\n",
              "      <td>0.019688</td>\n",
              "      <td>0.007966</td>\n",
              "      <td>-0.005581</td>\n",
              "    </tr>\n",
              "    <tr>\n",
              "      <th>CITY</th>\n",
              "      <td>0.003691</td>\n",
              "      <td>0.010852</td>\n",
              "      <td>1.000000</td>\n",
              "      <td>0.012464</td>\n",
              "      <td>0.008113</td>\n",
              "      <td>0.008007</td>\n",
              "      <td>-0.009975</td>\n",
              "      <td>0.009361</td>\n",
              "      <td>-0.002799</td>\n",
              "      <td>0.025431</td>\n",
              "      <td>-0.007019</td>\n",
              "      <td>-0.002799</td>\n",
              "    </tr>\n",
              "    <tr>\n",
              "      <th>MARITAL_STATUS</th>\n",
              "      <td>-0.021238</td>\n",
              "      <td>0.007455</td>\n",
              "      <td>0.012464</td>\n",
              "      <td>1.000000</td>\n",
              "      <td>-0.005509</td>\n",
              "      <td>0.006122</td>\n",
              "      <td>-0.000915</td>\n",
              "      <td>0.009884</td>\n",
              "      <td>-0.016902</td>\n",
              "      <td>0.012752</td>\n",
              "      <td>0.000175</td>\n",
              "      <td>-0.016902</td>\n",
              "    </tr>\n",
              "    <tr>\n",
              "      <th>AGE</th>\n",
              "      <td>0.025841</td>\n",
              "      <td>-0.011634</td>\n",
              "      <td>0.008113</td>\n",
              "      <td>-0.005509</td>\n",
              "      <td>1.000000</td>\n",
              "      <td>-0.004507</td>\n",
              "      <td>-0.002160</td>\n",
              "      <td>-0.001442</td>\n",
              "      <td>0.011075</td>\n",
              "      <td>0.011801</td>\n",
              "      <td>0.007797</td>\n",
              "      <td>0.011075</td>\n",
              "    </tr>\n",
              "    <tr>\n",
              "      <th>TENURE</th>\n",
              "      <td>0.008084</td>\n",
              "      <td>0.006190</td>\n",
              "      <td>0.008007</td>\n",
              "      <td>0.006122</td>\n",
              "      <td>-0.004507</td>\n",
              "      <td>1.000000</td>\n",
              "      <td>0.001327</td>\n",
              "      <td>-0.007814</td>\n",
              "      <td>0.009556</td>\n",
              "      <td>-0.017814</td>\n",
              "      <td>-0.001196</td>\n",
              "      <td>0.009556</td>\n",
              "    </tr>\n",
              "    <tr>\n",
              "      <th>EMPLOYMENT_STATUS</th>\n",
              "      <td>-0.008521</td>\n",
              "      <td>0.011419</td>\n",
              "      <td>-0.009975</td>\n",
              "      <td>-0.000915</td>\n",
              "      <td>-0.002160</td>\n",
              "      <td>0.001327</td>\n",
              "      <td>1.000000</td>\n",
              "      <td>-0.004896</td>\n",
              "      <td>-0.001861</td>\n",
              "      <td>-0.007412</td>\n",
              "      <td>-0.009317</td>\n",
              "      <td>-0.001861</td>\n",
              "    </tr>\n",
              "    <tr>\n",
              "      <th>NO_OF_FAMILY_MEMBERS</th>\n",
              "      <td>0.005207</td>\n",
              "      <td>0.000005</td>\n",
              "      <td>0.009361</td>\n",
              "      <td>0.009884</td>\n",
              "      <td>-0.001442</td>\n",
              "      <td>-0.007814</td>\n",
              "      <td>-0.004896</td>\n",
              "      <td>1.000000</td>\n",
              "      <td>-0.012059</td>\n",
              "      <td>0.005948</td>\n",
              "      <td>0.020016</td>\n",
              "      <td>-0.012059</td>\n",
              "    </tr>\n",
              "    <tr>\n",
              "      <th>RISK_SEGMENTATION</th>\n",
              "      <td>-0.001767</td>\n",
              "      <td>-0.005581</td>\n",
              "      <td>-0.002799</td>\n",
              "      <td>-0.016902</td>\n",
              "      <td>0.011075</td>\n",
              "      <td>0.009556</td>\n",
              "      <td>-0.001861</td>\n",
              "      <td>-0.012059</td>\n",
              "      <td>1.000000</td>\n",
              "      <td>-0.019132</td>\n",
              "      <td>0.015368</td>\n",
              "      <td>1.000000</td>\n",
              "    </tr>\n",
              "    <tr>\n",
              "      <th>HOUSE_TYPE</th>\n",
              "      <td>0.006746</td>\n",
              "      <td>0.019688</td>\n",
              "      <td>0.025431</td>\n",
              "      <td>0.012752</td>\n",
              "      <td>0.011801</td>\n",
              "      <td>-0.017814</td>\n",
              "      <td>-0.007412</td>\n",
              "      <td>0.005948</td>\n",
              "      <td>-0.019132</td>\n",
              "      <td>1.000000</td>\n",
              "      <td>-0.007148</td>\n",
              "      <td>-0.019132</td>\n",
              "    </tr>\n",
              "    <tr>\n",
              "      <th>SOCIAL_CLASS</th>\n",
              "      <td>0.000232</td>\n",
              "      <td>0.007966</td>\n",
              "      <td>-0.007019</td>\n",
              "      <td>0.000175</td>\n",
              "      <td>0.007797</td>\n",
              "      <td>-0.001196</td>\n",
              "      <td>-0.009317</td>\n",
              "      <td>0.020016</td>\n",
              "      <td>0.015368</td>\n",
              "      <td>-0.007148</td>\n",
              "      <td>1.000000</td>\n",
              "      <td>0.015368</td>\n",
              "    </tr>\n",
              "    <tr>\n",
              "      <th>RISK_segmentation</th>\n",
              "      <td>-0.001767</td>\n",
              "      <td>-0.005581</td>\n",
              "      <td>-0.002799</td>\n",
              "      <td>-0.016902</td>\n",
              "      <td>0.011075</td>\n",
              "      <td>0.009556</td>\n",
              "      <td>-0.001861</td>\n",
              "      <td>-0.012059</td>\n",
              "      <td>1.000000</td>\n",
              "      <td>-0.019132</td>\n",
              "      <td>0.015368</td>\n",
              "      <td>1.000000</td>\n",
              "    </tr>\n",
              "  </tbody>\n",
              "</table>\n",
              "</div>\n",
              "      <button class=\"colab-df-convert\" onclick=\"convertToInteractive('df-9df36057-2034-49f0-8c85-55052004de6e')\"\n",
              "              title=\"Convert this dataframe to an interactive table.\"\n",
              "              style=\"display:none;\">\n",
              "        \n",
              "  <svg xmlns=\"http://www.w3.org/2000/svg\" height=\"24px\"viewBox=\"0 0 24 24\"\n",
              "       width=\"24px\">\n",
              "    <path d=\"M0 0h24v24H0V0z\" fill=\"none\"/>\n",
              "    <path d=\"M18.56 5.44l.94 2.06.94-2.06 2.06-.94-2.06-.94-.94-2.06-.94 2.06-2.06.94zm-11 1L8.5 8.5l.94-2.06 2.06-.94-2.06-.94L8.5 2.5l-.94 2.06-2.06.94zm10 10l.94 2.06.94-2.06 2.06-.94-2.06-.94-.94-2.06-.94 2.06-2.06.94z\"/><path d=\"M17.41 7.96l-1.37-1.37c-.4-.4-.92-.59-1.43-.59-.52 0-1.04.2-1.43.59L10.3 9.45l-7.72 7.72c-.78.78-.78 2.05 0 2.83L4 21.41c.39.39.9.59 1.41.59.51 0 1.02-.2 1.41-.59l7.78-7.78 2.81-2.81c.8-.78.8-2.07 0-2.86zM5.41 20L4 18.59l7.72-7.72 1.47 1.35L5.41 20z\"/>\n",
              "  </svg>\n",
              "      </button>\n",
              "      \n",
              "  <style>\n",
              "    .colab-df-container {\n",
              "      display:flex;\n",
              "      flex-wrap:wrap;\n",
              "      gap: 12px;\n",
              "    }\n",
              "\n",
              "    .colab-df-convert {\n",
              "      background-color: #E8F0FE;\n",
              "      border: none;\n",
              "      border-radius: 50%;\n",
              "      cursor: pointer;\n",
              "      display: none;\n",
              "      fill: #1967D2;\n",
              "      height: 32px;\n",
              "      padding: 0 0 0 0;\n",
              "      width: 32px;\n",
              "    }\n",
              "\n",
              "    .colab-df-convert:hover {\n",
              "      background-color: #E2EBFA;\n",
              "      box-shadow: 0px 1px 2px rgba(60, 64, 67, 0.3), 0px 1px 3px 1px rgba(60, 64, 67, 0.15);\n",
              "      fill: #174EA6;\n",
              "    }\n",
              "\n",
              "    [theme=dark] .colab-df-convert {\n",
              "      background-color: #3B4455;\n",
              "      fill: #D2E3FC;\n",
              "    }\n",
              "\n",
              "    [theme=dark] .colab-df-convert:hover {\n",
              "      background-color: #434B5C;\n",
              "      box-shadow: 0px 1px 3px 1px rgba(0, 0, 0, 0.15);\n",
              "      filter: drop-shadow(0px 1px 2px rgba(0, 0, 0, 0.3));\n",
              "      fill: #FFFFFF;\n",
              "    }\n",
              "  </style>\n",
              "\n",
              "      <script>\n",
              "        const buttonEl =\n",
              "          document.querySelector('#df-9df36057-2034-49f0-8c85-55052004de6e button.colab-df-convert');\n",
              "        buttonEl.style.display =\n",
              "          google.colab.kernel.accessAllowed ? 'block' : 'none';\n",
              "\n",
              "        async function convertToInteractive(key) {\n",
              "          const element = document.querySelector('#df-9df36057-2034-49f0-8c85-55052004de6e');\n",
              "          const dataTable =\n",
              "            await google.colab.kernel.invokeFunction('convertToInteractive',\n",
              "                                                     [key], {});\n",
              "          if (!dataTable) return;\n",
              "\n",
              "          const docLinkHtml = 'Like what you see? Visit the ' +\n",
              "            '<a target=\"_blank\" href=https://colab.research.google.com/notebooks/data_table.ipynb>data table notebook</a>'\n",
              "            + ' to learn more about interactive tables.';\n",
              "          element.innerHTML = '';\n",
              "          dataTable['output_type'] = 'display_data';\n",
              "          await google.colab.output.renderOutput(dataTable, element);\n",
              "          const docLink = document.createElement('div');\n",
              "          docLink.innerHTML = docLinkHtml;\n",
              "          element.appendChild(docLink);\n",
              "        }\n",
              "      </script>\n",
              "    </div>\n",
              "  </div>\n",
              "  "
            ]
          },
          "metadata": {},
          "execution_count": 6
        }
      ]
    },
    {
      "cell_type": "code",
      "source": [
        "#removes this since its a duplicate\n",
        "del df['RISK_SEGMENTATION']"
      ],
      "metadata": {
        "id": "yjpbT4dedQCs"
      },
      "execution_count": 4,
      "outputs": []
    },
    {
      "cell_type": "code",
      "source": [
        "sns.set(rc = {'figure.figsize':(16,8)})\n",
        "sns.heatmap(df.corr(), annot = True, fmt='.2g',cmap= 'coolwarm')"
      ],
      "metadata": {
        "colab": {
          "base_uri": "https://localhost:8080/",
          "height": 637
        },
        "id": "sc3_Y6IYg_uA",
        "outputId": "c80bda26-9fc3-4a0a-e899-2b15bc586d49"
      },
      "execution_count": 5,
      "outputs": [
        {
          "output_type": "execute_result",
          "data": {
            "text/plain": [
              "<matplotlib.axes._subplots.AxesSubplot at 0x7f747fd769d0>"
            ]
          },
          "metadata": {},
          "execution_count": 5
        },
        {
          "output_type": "display_data",
          "data": {
            "text/plain": [
              "<Figure size 1152x576 with 2 Axes>"
            ],
            "image/png": "[encoded data removed]"
          },
          "metadata": {}
        }
      ]
    },
    {
      "cell_type": "code",
      "source": [],
      "metadata": {
        "id": "cwAukSrineBd"
      },
      "execution_count": null,
      "outputs": []
    },
    {
      "cell_type": "markdown",
      "source": [
        "#Features(X) and Target(Y)."
      ],
      "metadata": {
        "id": "fsMM-xL_3Fjm"
      }
    },
    {
      "cell_type": "code",
      "source": [
        "X = df[df.columns[:-1]].values\n",
        "Y = df[[df.columns[-1]]].values"
      ],
      "metadata": {
        "id": "AJ3Ktm_t1X4V"
      },
      "execution_count": 27,
      "outputs": []
    },
    {
      "cell_type": "code",
      "source": [
        "#confirming split\n",
        "\n",
        "print(X.shape)\n",
        "print(Y.shape)"
      ],
      "metadata": {
        "colab": {
          "base_uri": "https://localhost:8080/"
        },
        "id": "yxrN6Fr9nONr",
        "outputId": "63baeb07-669f-4183-d260-65c9219d9ae3"
      },
      "execution_count": 28,
      "outputs": [
        {
          "output_type": "stream",
          "name": "stdout",
          "text": [
            "(10000, 10)\n",
            "(10000, 1)\n"
          ]
        }
      ]
    },
    {
      "cell_type": "code",
      "source": [
        "plt.hist(Y)\n"
      ],
      "metadata": {
        "colab": {
          "base_uri": "https://localhost:8080/",
          "height": 554
        },
        "id": "HbUPcowXZUOi",
        "outputId": "e238f308-cab7-49da-e7cb-da71642a8b77"
      },
      "execution_count": 29,
      "outputs": [
        {
          "output_type": "execute_result",
          "data": {
            "text/plain": [
              "(array([1455.,    0.,    0.,    0.,    0., 4395.,    0.,    0.,    0.,\n",
              "        4150.]),\n",
              " array([0. , 0.2, 0.4, 0.6, 0.8, 1. , 1.2, 1.4, 1.6, 1.8, 2. ]),\n",
              " <a list of 10 Patch objects>)"
            ]
          },
          "metadata": {},
          "execution_count": 29
        },
        {
          "output_type": "display_data",
          "data": {
            "text/plain": [
              "<Figure size 1152x576 with 1 Axes>"
            ],
            "image/png": "[encoded data removed]"
          },
          "metadata": {}
        }
      ]
    },
    {
      "cell_type": "markdown",
      "source": [
        "#Random sampling the data to reduce underfitting."
      ],
      "metadata": {
        "id": "xrjsxlQg5DTJ"
      }
    },
    {
      "cell_type": "code",
      "source": [
        "sample = RandomOverSampler()\n",
        "X,Y = sample.fit_resample(X,Y)"
      ],
      "metadata": {
        "id": "Z8yvHncTp689"
      },
      "execution_count": 30,
      "outputs": []
    },
    {
      "cell_type": "code",
      "source": [
        "plt.hist(Y)"
      ],
      "metadata": {
        "id": "PbDtGI_lqurC",
        "colab": {
          "base_uri": "https://localhost:8080/",
          "height": 554
        },
        "outputId": "36f45d39-ee99-45bf-dcde-5f0ba90451e8"
      },
      "execution_count": 31,
      "outputs": [
        {
          "output_type": "execute_result",
          "data": {
            "text/plain": [
              "(array([4395.,    0.,    0.,    0.,    0., 4395.,    0.,    0.,    0.,\n",
              "        4395.]),\n",
              " array([0. , 0.2, 0.4, 0.6, 0.8, 1. , 1.2, 1.4, 1.6, 1.8, 2. ]),\n",
              " <a list of 10 Patch objects>)"
            ]
          },
          "metadata": {},
          "execution_count": 31
        },
        {
          "output_type": "display_data",
          "data": {
            "text/plain": [
              "<Figure size 1152x576 with 1 Axes>"
            ],
            "image/png": "[encoded data removed]"
          },
          "metadata": {}
        }
      ]
    },
    {
      "cell_type": "markdown",
      "source": [
        "#Test and train splits."
      ],
      "metadata": {
        "id": "bDiG-tNq479z"
      }
    },
    {
      "cell_type": "code",
      "source": [
        "\n",
        "x_test, x_train_val, y_test, y_train_val = train_test_split(X, Y, random_state=0, test_size = .80)\n",
        "\n",
        "#confirming split\n",
        "print(x_test.shape)\n",
        "print(x_train_val.shape)\n",
        "print(y_test.shape)\n",
        "print(y_train_val.shape)"
      ],
      "metadata": {
        "id": "lYkhkIk3GOkF",
        "colab": {
          "base_uri": "https://localhost:8080/"
        },
        "outputId": "0600f18a-039b-46dc-e84a-bd365fb8a756"
      },
      "execution_count": 32,
      "outputs": [
        {
          "output_type": "stream",
          "name": "stdout",
          "text": [
            "(2637, 10)\n",
            "(10548, 10)\n",
            "(2637,)\n",
            "(10548,)\n"
          ]
        }
      ]
    },
    {
      "cell_type": "code",
      "source": [
        "x_val, x_train, y_val, y_train = train_test_split(x_train_val, y_train_val, random_state=0, test_size = .75001)\n",
        "\n",
        "#confirming split\n",
        "print(x_val.shape)\n",
        "print(x_train.shape)\n",
        "print(y_val.shape)\n",
        "print(y_train.shape)"
      ],
      "metadata": {
        "id": "L9PuFI9sq_nf",
        "colab": {
          "base_uri": "https://localhost:8080/"
        },
        "outputId": "abb912e2-a7bc-4322-dc5f-ee9a87f2ea87"
      },
      "execution_count": 33,
      "outputs": [
        {
          "output_type": "stream",
          "name": "stdout",
          "text": [
            "(2636, 10)\n",
            "(7912, 10)\n",
            "(2636,)\n",
            "(7912,)\n"
          ]
        }
      ]
    },
    {
      "cell_type": "code",
      "source": [
        "rf_clf = RandomForestClassifier()"
      ],
      "metadata": {
        "id": "UVdD7gNZgq0p"
      },
      "execution_count": 34,
      "outputs": []
    },
    {
      "cell_type": "markdown",
      "source": [
        "#Fitting on the train data."
      ],
      "metadata": {
        "id": "n9UZ8YPd3agb"
      }
    },
    {
      "cell_type": "code",
      "source": [
        "\n",
        "rf_clf.fit(x_train,y_train.ravel())"
      ],
      "metadata": {
        "id": "8bVG56SsIF41",
        "colab": {
          "base_uri": "https://localhost:8080/"
        },
        "outputId": "b3928e03-718e-40e9-9f44-e66905b7ec43"
      },
      "execution_count": 35,
      "outputs": [
        {
          "output_type": "execute_result",
          "data": {
            "text/plain": [
              "RandomForestClassifier()"
            ]
          },
          "metadata": {},
          "execution_count": 35
        }
      ]
    },
    {
      "cell_type": "markdown",
      "source": [
        "#Making a prediction."
      ],
      "metadata": {
        "id": "wt3ZokVt4xbV"
      }
    },
    {
      "cell_type": "code",
      "source": [
        "y_pred = rf_clf.predict(x_test)\n",
        "print(\"Evaluated test_predictions:\", y_pred)"
      ],
      "metadata": {
        "colab": {
          "base_uri": "https://localhost:8080/"
        },
        "id": "9D4oxOgbtnkV",
        "outputId": "2d231bb6-2709-4cd2-ce69-25c3eaba60ed"
      },
      "execution_count": 36,
      "outputs": [
        {
          "output_type": "stream",
          "name": "stdout",
          "text": [
            "Evaluated test_predictions: [2 2 2 ... 1 0 1]\n"
          ]
        }
      ]
    },
    {
      "cell_type": "markdown",
      "source": [
        "#Accuracy Score."
      ],
      "metadata": {
        "id": "GkQbvEpH4SaY"
      }
    },
    {
      "cell_type": "code",
      "source": [
        "accuracy_test = accuracy_score(y_test,y_pred)\n",
        "print('accuracy_score on test dataset : ', (accuracy_test*100).round(2),'%')"
      ],
      "metadata": {
        "id": "wCwi4NtCfXCr",
        "colab": {
          "base_uri": "https://localhost:8080/"
        },
        "outputId": "31d2b359-20ce-4f6d-dbf3-b649c28ed83d"
      },
      "execution_count": 39,
      "outputs": [
        {
          "output_type": "stream",
          "name": "stdout",
          "text": [
            "accuracy_score on test dataset :  61.7 %\n"
          ]
        }
      ]
    }
  ]
}